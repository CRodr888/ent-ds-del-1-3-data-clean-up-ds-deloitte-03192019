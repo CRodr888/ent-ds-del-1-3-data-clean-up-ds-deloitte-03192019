{
 "cells": [
  {
   "cell_type": "markdown",
   "metadata": {},
   "source": [
    "# Common Data Clean Up Operations\n",
    "\n",
    "\n",
    "## Introduction\n",
    "Eventually you're going to want to be able to import a csv file or scrape web pages and then automate the cleaning of your data by looping over all of the information and cleaning it up automatically. However, there are a lot of new concepts required to get to that point, so let's work on them one at a time.\n",
    "\n",
    "In this lesson we're just going to focus on taking an individual variable and cleaning it up and/or changing its data type.\n",
    "\n",
    "## Objectives\n",
    "You will be able to:\n",
    "* Perform simple data clean up operations on individual variables"
   ]
  },
  {
   "cell_type": "markdown",
   "metadata": {},
   "source": [
    "### String to Integer\n",
    "You've seen this one before, but let's take a run at it. We want to add two \"numbers\" but they are both stored as strings. Modify the code in the next cell to get the addition to work and return the value you'd expect. Remember - `shift-enter` to run the code in a cell."
   ]
  },
  {
   "cell_type": "code",
   "execution_count": null,
   "metadata": {},
   "outputs": [],
   "source": [
    "chase_bank_balace = \"145000\"\n",
    "capital_one_bank_balance = \"27000\"\n",
    "credit_card_balance = \"1400\"\n",
    "assets = chase_bank_balace + capital_one_bank_balance - credit_card_balance\n",
    "assets"
   ]
  },
  {
   "cell_type": "markdown",
   "metadata": {},
   "source": [
    "### Fixing Capitalization\n",
    "When you are comparing text in a programming language, the code is often case sensitive (so \"Ben\", \"ben\" and \"BEN\" would be considered to be three different names. Try running the code below, and then just go in, change the value of name_1 to be all lower case and re-run the code."
   ]
  },
  {
   "cell_type": "code",
   "execution_count": null,
   "metadata": {},
   "outputs": [],
   "source": [
    "name_1 = \"Ben\"\n",
    "name_2 = \"ben\"\n",
    "if name_1 == name_2:\n",
    "    print(\"The names match!\")\n",
    "else:\n",
    "    print(\"Oops - problems with capitalization!\")"
   ]
  },
  {
   "cell_type": "markdown",
   "metadata": {},
   "source": [
    "So, consistent capitalization helps to make data both easier to read and easier to process.\n",
    "\n",
    "There are a few methods (small pieces of pre-written software) built right into the Python programming language to make it easy to fix capitalization. \n",
    "\n",
    "`.upper()` capitalizes all of the letters\n",
    "`.lower()` downcases all of the letters\n",
    "`.capitalize()` makes the first letter of a string capital and downcases the other characters.\n",
    "\n",
    "See them in action below:"
   ]
  },
  {
   "cell_type": "code",
   "execution_count": null,
   "metadata": {},
   "outputs": [],
   "source": [
    "name = \"SAlLY JonES\"\n",
    "print(name.lower())\n",
    "print(name.upper())\n",
    "print(name.capitalize())"
   ]
  },
  {
   "cell_type": "markdown",
   "metadata": {},
   "source": [
    "One thing to look out for though. Some methods mutate (change) a variable. Others just return a new value, leaving the original variable as it is. Note below that the original name hasn't changed:"
   ]
  },
  {
   "cell_type": "code",
   "execution_count": null,
   "metadata": {},
   "outputs": [],
   "source": [
    "name = \"SAlLY JonES\"\n",
    "print(name.lower())\n",
    "print(name.upper())\n",
    "print(name.capitalize())\n",
    "print(name)"
   ]
  },
  {
   "cell_type": "markdown",
   "metadata": {},
   "source": [
    "So, if you want to change a variable, you have to write your code slightly differently:"
   ]
  },
  {
   "cell_type": "code",
   "execution_count": null,
   "metadata": {},
   "outputs": [],
   "source": [
    "name = \"SAlLY JonES\"\n",
    "name = name.capitalize()\n",
    "print(name)"
   ]
  },
  {
   "cell_type": "markdown",
   "metadata": {},
   "source": [
    "This is something to bear in mind if your code *looks* right but the values of your variables aren't changing!\n",
    "\n",
    "### Creating Booleans from Strings\n",
    "Often as a pre-processing stage, you want to take a string and based on it's value, set a boolean for that record. Lets say we want to easily find people who are living in Texas vs elsewhere and we want to take the `State` field from their address and use it to create a boolean called `lives_in_texas`. The core code might look something like this:"
   ]
  },
  {
   "cell_type": "code",
   "execution_count": null,
   "metadata": {},
   "outputs": [],
   "source": [
    "state = \"TX\"\n",
    "if state == \"TX\":\n",
    "    lives_in_texas = True\n",
    "else:\n",
    "    lives_in_texas = False\n",
    "\n",
    "print(lives_in_texas)"
   ]
  },
  {
   "cell_type": "markdown",
   "metadata": {},
   "source": [
    "Try pulling together the last two ideas. Here is some starter code. Can you change the code so it doesn't matter what the capitalization of the state name is?\n",
    "\n",
    "*Note that the lines starting with a # are comments in Python, so they're notes to you, but aren't processed by the Python interpreter.*"
   ]
  },
  {
   "cell_type": "code",
   "execution_count": null,
   "metadata": {},
   "outputs": [],
   "source": [
    "state = \"Tx\"\n",
    "# Do something to the state variable here\n",
    "# state = . . . . \n",
    "if state == \"TX\":\n",
    "    lives_in_texas = True\n",
    "else:\n",
    "    lives_in_texas = False\n",
    "\n",
    "print(lives_in_texas)"
   ]
  },
  {
   "cell_type": "markdown",
   "metadata": {},
   "source": [
    "### Creating Booleans from Numbers\n",
    "\n",
    "Try something similar with this code. In this case lets say we're investigating a bunch of day laborers and lets assume that if they have more than (say) $5,000 in the bank we consider them to be suspicious *(hey, they could just be lucky or thrifty, but it's worth investigating further)*.\n",
    "\n",
    "As you can see, if you run the code below, it doesn't work because we're trying to compare a string with a number. Can you add a line to the code to turn the bank balance into a number as well to get this to work?\n"
   ]
  },
  {
   "cell_type": "code",
   "execution_count": null,
   "metadata": {},
   "outputs": [],
   "source": [
    "bank_balance = \"7000\"\n",
    "# Do something to the bank_balance variable here\n",
    "# bank_balance = . . .\n",
    "if bank_balance > 5000:\n",
    "    suspicious_assets = True\n",
    "else:\n",
    "    suspicious_assets = False\n",
    "print(suspicious_assets)"
   ]
  },
  {
   "cell_type": "markdown",
   "metadata": {},
   "source": [
    "### Extracting Numbers from Strings\n",
    "\n",
    "We've seen how to take a simple representation of a number which is stored as a string and to turn that into a number. But what happens if there are additional characters. See what happens when you run the code below (hint, it won't work!!!)"
   ]
  },
  {
   "cell_type": "code",
   "execution_count": null,
   "metadata": {},
   "outputs": [],
   "source": [
    "salary=\"$36,000\"\n",
    "print(salary)\n",
    "if salary > 46000:\n",
    "    livable_wage = True\n",
    "else:\n",
    "    livable_wage = False\n",
    "print(livable_wage)"
   ]
  },
  {
   "cell_type": "markdown",
   "metadata": {},
   "source": [
    "There are a lot of ways of solving this problem. Here is one solution. "
   ]
  },
  {
   "cell_type": "code",
   "execution_count": null,
   "metadata": {},
   "outputs": [],
   "source": [
    "salary=\"$36,000\"\n",
    "salary = int(''.join(filter(str.isdigit, salary)))\n",
    "print(salary)\n",
    "if salary > 46000:\n",
    "    livable_wage = True\n",
    "else:\n",
    "    livable_wage = False\n",
    "print(livable_wage)"
   ]
  },
  {
   "cell_type": "markdown",
   "metadata": {},
   "source": [
    "## Summary\n",
    "As you saw above, some problems are easy to solve in Python (turn \"12\" into 12). Some are quite a bit more complex (turn \"$12\" into 12). Figuring out which is which is not always obvious, so don't get surprised if sometimes there is something you think should be easy but ends up being hard - that happens to programmers all the time. Also, Google is your friend. Generally the hardest part of solving most small programming challenges is finding the right keywords to Google to find a good blog post or stack overflow thread that will give you the code that you need!\n",
    "\n",
    "Now that you've had a little experience with cleaning up data, lets set you up with a lab where you can get more practice (of coding and of Googling)!\n",
    "\n"
   ]
  }
 ],
 "metadata": {
  "kernelspec": {
   "display_name": "Python 3",
   "language": "python",
   "name": "python3"
  },
  "language_info": {
   "codemirror_mode": {
    "name": "ipython",
    "version": 3
   },
   "file_extension": ".py",
   "mimetype": "text/x-python",
   "name": "python",
   "nbconvert_exporter": "python",
   "pygments_lexer": "ipython3",
   "version": "3.6.6"
  }
 },
 "nbformat": 4,
 "nbformat_minor": 2
}
